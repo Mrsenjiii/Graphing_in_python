{
  "nbformat": 4,
  "nbformat_minor": 0,
  "metadata": {
    "colab": {
      "private_outputs": true,
      "provenance": [],
      "authorship_tag": "ABX9TyPpxCCG7yP+u94Ke/WyCFN1",
      "include_colab_link": true
    },
    "kernelspec": {
      "name": "python3",
      "display_name": "Python 3"
    },
    "language_info": {
      "name": "python"
    }
  },
  "cells": [
    {
      "cell_type": "markdown",
      "metadata": {
        "id": "view-in-github",
        "colab_type": "text"
      },
      "source": [
        "<a href=\"https://colab.research.google.com/github/Mrsenjiii/Graphing_in_python/blob/main/Untitled10.ipynb\" target=\"_parent\"><img src=\"https://colab.research.google.com/assets/colab-badge.svg\" alt=\"Open In Colab\"/></a>"
      ]
    },
    {
      "cell_type": "code",
      "execution_count": null,
      "metadata": {
        "id": "rpQ8AFo5LDqB"
      },
      "outputs": [],
      "source": [
        "import numpy as np\n",
        "import matplotlib.pyplot as plt\n",
        "\n",
        "a = np.random.randn(50)\n",
        "a"
      ]
    },
    {
      "cell_type": "code",
      "source": [
        "x = np.linspace(0, 2, 100)  # Sample data.\n",
        "\n",
        "# Note that even in the OO-style, we use `.pyplot.figure` to create the Figure.\n",
        "fig, ax = plt.subplots(figsize=(5, 2.7), layout='constrained')\n",
        "ax.plot(x, x, label='linear')  # Plot some data on the axes.\n",
        "ax.plot(x, x**2, label='quadratic')  # Plot more data on the axes...\n",
        "ax.plot(x, x**3, label='cubic')  # ... and some more.\n",
        "ax.set_xlabel('x label')  # Add an x-label to the axes.\n",
        "ax.set_ylabel('y label')  # Add a y-label to the axes.\n",
        "ax.set_title(\"Simple Plot\")  # Add a title to the axes.\n",
        "ax.legend()  # Add a legend.\n",
        "print()"
      ],
      "metadata": {
        "id": "aOXvRbjwLQvU"
      },
      "execution_count": null,
      "outputs": []
    },
    {
      "cell_type": "code",
      "source": [
        "data1, data2, data3, data4 = np.random.randn(4, 100)  # make 4 random data sets\n",
        "print(np.random.randn(4,100).shape)"
      ],
      "metadata": {
        "id": "fBsuQIvTNXvy"
      },
      "execution_count": null,
      "outputs": []
    },
    {
      "cell_type": "code",
      "source": [
        "fig, ax = plt.subplots(figsize=(5, 2.7))\n",
        "x = np.arange(len(data1))\n",
        "ax.plot(x, np.cumsum(data1), color='blue', linewidth=3, linestyle='--')\n",
        "l, = ax.plot(x, np.cumsum(data2), color='orange', linewidth=4)\n",
        "l.set_linestyle('-.')"
      ],
      "metadata": {
        "id": "Y5tQosHxOCYL"
      },
      "execution_count": null,
      "outputs": []
    },
    {
      "cell_type": "code",
      "source": [
        "c = np.arange(0, 100, 0.1\n",
        "              )"
      ],
      "metadata": {
        "id": "wQZT9frKQLd4"
      },
      "execution_count": null,
      "outputs": []
    },
    {
      "cell_type": "code",
      "source": [
        "c"
      ],
      "metadata": {
        "id": "dssfTtUPXG55"
      },
      "execution_count": null,
      "outputs": []
    },
    {
      "cell_type": "code",
      "source": [
        "fig, ax = plt.subplots(figsize=(5, 2.7), layout='constrained')\n",
        "categories = ['turnips', 'rutabaga', 'cucumber', 'pumpkins']\n",
        "data = np.array([10,20,\n",
        "                 31,10])\n",
        "ax.bar(categories, data)"
      ],
      "metadata": {
        "id": "DDhv7co2XHyN"
      },
      "execution_count": null,
      "outputs": []
    },
    {
      "cell_type": "code",
      "source": [],
      "metadata": {
        "id": "glUUY7olXqd-"
      },
      "execution_count": null,
      "outputs": []
    }
  ]
}