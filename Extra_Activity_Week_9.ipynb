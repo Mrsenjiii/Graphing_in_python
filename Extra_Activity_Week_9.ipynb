{
  "nbformat": 4,
  "nbformat_minor": 0,
  "metadata": {
    "colab": {
      "provenance": [],
      "include_colab_link": true
    },
    "kernelspec": {
      "name": "python3",
      "display_name": "Python 3"
    }
  },
  "cells": [
    {
      "cell_type": "markdown",
      "metadata": {
        "id": "view-in-github",
        "colab_type": "text"
      },
      "source": [
        "<a href=\"https://colab.research.google.com/github/Mrsenjiii/Graphing_in_python/blob/main/Extra_Activity_Week_9.ipynb\" target=\"_parent\"><img src=\"https://colab.research.google.com/assets/colab-badge.svg\" alt=\"Open In Colab\"/></a>"
      ]
    },
    {
      "cell_type": "markdown",
      "metadata": {
        "id": "DFVYyoMKKj7i"
      },
      "source": [
        "# Extra Activity - Week 9"
      ]
    },
    {
      "cell_type": "markdown",
      "metadata": {
        "id": "yQnPw68Ono8S"
      },
      "source": [
        "# Importing packages\n"
      ]
    },
    {
      "cell_type": "code",
      "metadata": {
        "id": "pV7_0aGuiytb"
      },
      "source": [
        "import numpy as np"
      ],
      "execution_count": null,
      "outputs": []
    },
    {
      "cell_type": "markdown",
      "metadata": {
        "id": "8t26cBgqYdR0"
      },
      "source": [
        "# Import statistics module\n",
        "We will use scipy.stats, which has several functions for statistics and probability distributions."
      ]
    },
    {
      "cell_type": "code",
      "metadata": {
        "id": "cfuXiM6_YopX"
      },
      "source": [
        "import scipy.stats as st"
      ],
      "execution_count": null,
      "outputs": []
    },
    {
      "cell_type": "markdown",
      "metadata": {
        "id": "oixdxHiLXEbG"
      },
      "source": [
        "# Import pandas, matplotlib"
      ]
    },
    {
      "cell_type": "code",
      "metadata": {
        "id": "253oJrrPXJbG"
      },
      "source": [
        "import pandas as pd\n",
        "import matplotlib.pyplot as plt"
      ],
      "execution_count": null,
      "outputs": []
    },
    {
      "cell_type": "markdown",
      "metadata": {
        "id": "_Fva8lrNdOjr"
      },
      "source": [
        "# Fitting a distribution and estimating parameters\n",
        "Interarrival times in a Gamma ray experiment are given in the book \"Mathematical Statistics and Data Analysis\" by John Rice. The data is in the form of an excel file.\n",
        "\n",
        "We will use the pandas module in python to read the excel file."
      ]
    },
    {
      "cell_type": "code",
      "metadata": {
        "colab": {
          "base_uri": "https://localhost:8080/",
          "height": 424
        },
        "id": "Q3nijj-BcZ2c",
        "outputId": "7d3d60df-f275-4a8c-d1bb-ea4372e53dc1"
      },
      "source": [
        "#Make sure you upload the file Data_Fitting.xlsx to the Colab runtime before running this...\n",
        "df = pd.read_excel(r'/content/Data_Fitting.xlsx')\n",
        "df"
      ],
      "execution_count": null,
      "outputs": [
        {
          "output_type": "execute_result",
          "data": {
            "text/plain": [
              "      Data\n",
              "0     75.0\n",
              "1     80.0\n",
              "2     20.0\n",
              "3     45.0\n",
              "4     42.0\n",
              "...    ...\n",
              "1316  60.0\n",
              "1317  30.0\n",
              "1318  25.0\n",
              "1319  10.0\n",
              "1320  50.0\n",
              "\n",
              "[1321 rows x 1 columns]"
            ],
            "text/html": [
              "\n",
              "  <div id=\"df-9a21cd0f-0632-44b2-ac77-1419d1ddb532\">\n",
              "    <div class=\"colab-df-container\">\n",
              "      <div>\n",
              "<style scoped>\n",
              "    .dataframe tbody tr th:only-of-type {\n",
              "        vertical-align: middle;\n",
              "    }\n",
              "\n",
              "    .dataframe tbody tr th {\n",
              "        vertical-align: top;\n",
              "    }\n",
              "\n",
              "    .dataframe thead th {\n",
              "        text-align: right;\n",
              "    }\n",
              "</style>\n",
              "<table border=\"1\" class=\"dataframe\">\n",
              "  <thead>\n",
              "    <tr style=\"text-align: right;\">\n",
              "      <th></th>\n",
              "      <th>Data</th>\n",
              "    </tr>\n",
              "  </thead>\n",
              "  <tbody>\n",
              "    <tr>\n",
              "      <th>0</th>\n",
              "      <td>75.0</td>\n",
              "    </tr>\n",
              "    <tr>\n",
              "      <th>1</th>\n",
              "      <td>80.0</td>\n",
              "    </tr>\n",
              "    <tr>\n",
              "      <th>2</th>\n",
              "      <td>20.0</td>\n",
              "    </tr>\n",
              "    <tr>\n",
              "      <th>3</th>\n",
              "      <td>45.0</td>\n",
              "    </tr>\n",
              "    <tr>\n",
              "      <th>4</th>\n",
              "      <td>42.0</td>\n",
              "    </tr>\n",
              "    <tr>\n",
              "      <th>...</th>\n",
              "      <td>...</td>\n",
              "    </tr>\n",
              "    <tr>\n",
              "      <th>1316</th>\n",
              "      <td>60.0</td>\n",
              "    </tr>\n",
              "    <tr>\n",
              "      <th>1317</th>\n",
              "      <td>30.0</td>\n",
              "    </tr>\n",
              "    <tr>\n",
              "      <th>1318</th>\n",
              "      <td>25.0</td>\n",
              "    </tr>\n",
              "    <tr>\n",
              "      <th>1319</th>\n",
              "      <td>10.0</td>\n",
              "    </tr>\n",
              "    <tr>\n",
              "      <th>1320</th>\n",
              "      <td>50.0</td>\n",
              "    </tr>\n",
              "  </tbody>\n",
              "</table>\n",
              "<p>1321 rows × 1 columns</p>\n",
              "</div>\n",
              "      <button class=\"colab-df-convert\" onclick=\"convertToInteractive('df-9a21cd0f-0632-44b2-ac77-1419d1ddb532')\"\n",
              "              title=\"Convert this dataframe to an interactive table.\"\n",
              "              style=\"display:none;\">\n",
              "        \n",
              "  <svg xmlns=\"http://www.w3.org/2000/svg\" height=\"24px\"viewBox=\"0 0 24 24\"\n",
              "       width=\"24px\">\n",
              "    <path d=\"M0 0h24v24H0V0z\" fill=\"none\"/>\n",
              "    <path d=\"M18.56 5.44l.94 2.06.94-2.06 2.06-.94-2.06-.94-.94-2.06-.94 2.06-2.06.94zm-11 1L8.5 8.5l.94-2.06 2.06-.94-2.06-.94L8.5 2.5l-.94 2.06-2.06.94zm10 10l.94 2.06.94-2.06 2.06-.94-2.06-.94-.94-2.06-.94 2.06-2.06.94z\"/><path d=\"M17.41 7.96l-1.37-1.37c-.4-.4-.92-.59-1.43-.59-.52 0-1.04.2-1.43.59L10.3 9.45l-7.72 7.72c-.78.78-.78 2.05 0 2.83L4 21.41c.39.39.9.59 1.41.59.51 0 1.02-.2 1.41-.59l7.78-7.78 2.81-2.81c.8-.78.8-2.07 0-2.86zM5.41 20L4 18.59l7.72-7.72 1.47 1.35L5.41 20z\"/>\n",
              "  </svg>\n",
              "      </button>\n",
              "      \n",
              "  <style>\n",
              "    .colab-df-container {\n",
              "      display:flex;\n",
              "      flex-wrap:wrap;\n",
              "      gap: 12px;\n",
              "    }\n",
              "\n",
              "    .colab-df-convert {\n",
              "      background-color: #E8F0FE;\n",
              "      border: none;\n",
              "      border-radius: 50%;\n",
              "      cursor: pointer;\n",
              "      display: none;\n",
              "      fill: #1967D2;\n",
              "      height: 32px;\n",
              "      padding: 0 0 0 0;\n",
              "      width: 32px;\n",
              "    }\n",
              "\n",
              "    .colab-df-convert:hover {\n",
              "      background-color: #E2EBFA;\n",
              "      box-shadow: 0px 1px 2px rgba(60, 64, 67, 0.3), 0px 1px 3px 1px rgba(60, 64, 67, 0.15);\n",
              "      fill: #174EA6;\n",
              "    }\n",
              "\n",
              "    [theme=dark] .colab-df-convert {\n",
              "      background-color: #3B4455;\n",
              "      fill: #D2E3FC;\n",
              "    }\n",
              "\n",
              "    [theme=dark] .colab-df-convert:hover {\n",
              "      background-color: #434B5C;\n",
              "      box-shadow: 0px 1px 3px 1px rgba(0, 0, 0, 0.15);\n",
              "      filter: drop-shadow(0px 1px 2px rgba(0, 0, 0, 0.3));\n",
              "      fill: #FFFFFF;\n",
              "    }\n",
              "  </style>\n",
              "\n",
              "      <script>\n",
              "        const buttonEl =\n",
              "          document.querySelector('#df-9a21cd0f-0632-44b2-ac77-1419d1ddb532 button.colab-df-convert');\n",
              "        buttonEl.style.display =\n",
              "          google.colab.kernel.accessAllowed ? 'block' : 'none';\n",
              "\n",
              "        async function convertToInteractive(key) {\n",
              "          const element = document.querySelector('#df-9a21cd0f-0632-44b2-ac77-1419d1ddb532');\n",
              "          const dataTable =\n",
              "            await google.colab.kernel.invokeFunction('convertToInteractive',\n",
              "                                                     [key], {});\n",
              "          if (!dataTable) return;\n",
              "\n",
              "          const docLinkHtml = 'Like what you see? Visit the ' +\n",
              "            '<a target=\"_blank\" href=https://colab.research.google.com/notebooks/data_table.ipynb>data table notebook</a>'\n",
              "            + ' to learn more about interactive tables.';\n",
              "          element.innerHTML = '';\n",
              "          dataTable['output_type'] = 'display_data';\n",
              "          await google.colab.output.renderOutput(dataTable, element);\n",
              "          const docLink = document.createElement('div');\n",
              "          docLink.innerHTML = docLinkHtml;\n",
              "          element.appendChild(docLink);\n",
              "        }\n",
              "      </script>\n",
              "    </div>\n",
              "  </div>\n",
              "  "
            ]
          },
          "metadata": {},
          "execution_count": 4
        }
      ]
    },
    {
      "cell_type": "markdown",
      "metadata": {
        "id": "OJl42U8sds9o"
      },
      "source": [
        "We see that there are 1321 samples of data. To get a sense of the distribution, we should plot a histogram."
      ]
    },
    {
      "cell_type": "code",
      "metadata": {
        "colab": {
          "base_uri": "https://localhost:8080/",
          "height": 317
        },
        "id": "No3OVW3dc4MJ",
        "outputId": "0f7f990e-70b9-4bbe-cbec-32362f7f3054"
      },
      "source": [
        "plt.hist(df['Data'],bins=10)"
      ],
      "execution_count": null,
      "outputs": [
        {
          "output_type": "execute_result",
          "data": {
            "text/plain": [
              "(array([ 20.,  75., 164., 230., 269., 213., 154.,  96.,  76.,  24.]),\n",
              " array([  0.,  10.,  20.,  30.,  40.,  50.,  60.,  70.,  80.,  90., 100.]),\n",
              " <a list of 10 Patch objects>)"
            ]
          },
          "metadata": {},
          "execution_count": 36
        },
        {
          "output_type": "display_data",
          "data": {
            "text/plain": [
              "<Figure size 432x288 with 1 Axes>"
            ],
            "image/png": "[encoded data removed]"
          },
          "metadata": {
            "needs_background": "light"
          }
        }
      ]
    },
    {
      "cell_type": "markdown",
      "metadata": {
        "id": "JZpmyV0eezlU"
      },
      "source": [
        "# Fitting a Normal distribution\n",
        "From the histogram, the distribution could be modelled as Normal$(\\mu,\\sigma^2)$. The next step is to estimate $\\mu$ and $\\sigma^2$ from the given samples.\n",
        "\n",
        "## Method of moments\n",
        "Suppose $m_1$ and $m_2$ are the first and second moments of the samples. The method of moments estimates are obtained by solving\n",
        "$$m_1=\\mu,$$\n",
        "$$m_2=\\mu^2+\\sigma^2$$\n",
        "The solution results in\n",
        "$$\\hat{\\mu}_{MM}=M_1,\\hat{\\sigma^2}_{MM}=\\frac{1}{n} \\sum_{i=1}^n (X_i - \\bar{X})^2.$$\n",
        "We now compute the values of $m_1$ (sample mean) and $s^2=m_2-m_1^2$ (sample variance) from the data. After that, we can compute the estimates."
      ]
    },
    {
      "cell_type": "code",
      "metadata": {
        "colab": {
          "base_uri": "https://localhost:8080/"
        },
        "id": "UBtNJU6gjB23",
        "outputId": "0232fedb-0687-41ff-921b-afb3c1a362f4"
      },
      "source": [
        "x = np.array(df['Data'])\n",
        "m1 = np.average(x)\n",
        "ss = np.var(x)\n",
        "sd1 = sqrt(ss)\n",
        "print(\"Mu Hat Estimator >>>> \",m1)\n",
        "print(\"Sigma Square Estimator >>> \",ss)\n",
        "#print(\"Standard Deviation \", sd1)\n"
      ],
      "execution_count": null,
      "outputs": [
        {
          "output_type": "stream",
          "name": "stdout",
          "text": [
            "Mu Hat Estimator >>>>  45.02800908402725\n",
            "Sigma Square Estimator >>>  395.8637120847018\n"
          ]
        }
      ]
    },
    {
      "cell_type": "markdown",
      "metadata": {
        "id": "ZLZ853v0nr66"
      },
      "source": [
        "We can plot the density of the Normal on top of the density histogram to check if the estimate gives a reasonable fit."
      ]
    },
    {
      "cell_type": "code",
      "source": [
        "my_data = df['Data']\n",
        "plt.hist(my_data,bins=10, density=True)\n",
        "xp = np.linspace(0, 100, 10)\n",
        "plt.plot(xp,st.norm.pdf(xp,loc=m1,scale=sd1),lw=2) #normal pdf\n",
        "plt.show()"
      ],
      "metadata": {
        "colab": {
          "base_uri": "https://localhost:8080/",
          "height": 265
        },
        "id": "N3-UFkwdQfRf",
        "outputId": "7587211f-cf24-4f53-e391-dbfde7d4bf7c"
      },
      "execution_count": null,
      "outputs": [
        {
          "output_type": "display_data",
          "data": {
            "text/plain": [
              "<Figure size 432x288 with 1 Axes>"
            ],
            "image/png": "[encoded data removed]"
          },
          "metadata": {
            "needs_background": "light"
          }
        }
      ]
    },
    {
      "cell_type": "markdown",
      "metadata": {
        "id": "hr_MYGs02xiP"
      },
      "source": [
        "Notice how the histogram looks roughly normal. Hence, Normal distribution is a good fit to the above given data.\n"
      ]
    }
  ]
}